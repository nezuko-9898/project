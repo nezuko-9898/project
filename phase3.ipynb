{
 "cells": [
  {
   "cell_type": "code",
   "execution_count": null,
   "metadata": {},
   "outputs": [],
   "source": [
    "class student:\n",
    "    def __init__(self,name,studentid):\n",
    "        self.name = name\n",
    "        self.studentid = studentid\n",
    "        self.courses = []\n",
    "\n",
    "    def enroled(self,course):\n",
    "        self.course =course\n",
    "        if course not in self.courses:\n",
    "         self.courses.append(course) \n",
    "         course.add_student(self)\n",
    "\n",
    "        else:\n",
    "\n",
    "            return f'{self.name} already enrolled {self.course}'\n",
    "\n",
    "    def list_course(self):\n",
    "        return [course.name for course in self.courses]\n",
    "\n",
    "    def __str__(self):\n",
    "        return f'Student {self.name}, ID{self.studentid} '   \n",
    "\n",
    "\n",
    "class course:\n",
    "\n",
    "    def __init__(self,name,code):\n",
    "        self.name = name\n",
    "        self.code =code\n",
    "        self.students =[] \n",
    "\n",
    "    def add_student(self,student):\n",
    "      self.student = student \n",
    "      if student not in self.students:\n",
    "        self.students.append(student)\n",
    "        \n",
    "\n",
    "    def list_student(self):\n",
    "        return [student.name for student in self.students]   \n",
    "\n",
    "    def __str__(self) :\n",
    "        return f'Course {self.name}, Code {self.code}'\n",
    "        \n",
    "            \n",
    "\n",
    "\n"
   ]
  }
 ],
 "metadata": {
  "kernelspec": {
   "display_name": "Python 3",
   "language": "python",
   "name": "python3"
  },
  "language_info": {
   "name": "python",
   "version": "3.11.3"
  },
  "orig_nbformat": 4,
  "vscode": {
   "interpreter": {
    "hash": "c6b30b7b1f5bccd298e2e4e29573e98d5e423cbdbad08292c692205c16954197"
   }
  }
 },
 "nbformat": 4,
 "nbformat_minor": 2
}
