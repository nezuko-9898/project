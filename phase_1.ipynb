{
 "cells": [
  {
   "cell_type": "code",
   "execution_count": 9,
   "metadata": {},
   "outputs": [
    {
     "name": "stdout",
     "output_type": "stream",
     "text": [
      "hello\n"
     ]
    }
   ],
   "source": [
    "print(\"hello\")"
   ]
  },
  {
   "cell_type": "code",
   "execution_count": 10,
   "metadata": {},
   "outputs": [
    {
     "name": "stdout",
     "output_type": "stream",
     "text": [
      "output: 20\n",
      "Output = 20\n"
     ]
    }
   ],
   "source": [
    "###1.Write a Python function to sum all the numbers in a list.\n",
    "###Sample List : (8, 2, 3, 0, 7)\n",
    "###Expected Output : 20\n",
    " \n",
    "\n",
    "\n",
    "sample_list = [8,2,3,0,7]\n",
    "Ans = 0\n",
    "for i in sample_list:\n",
    "   Ans+=i\n",
    "\n",
    "print('output:',Ans)\n",
    "\n",
    "#second\n",
    "\n",
    "my_list = [8,2,3,0,7]\n",
    "result = sum(sample_list)\n",
    "print(\"Output =\",result)"
   ]
  },
  {
   "cell_type": "code",
   "execution_count": 82,
   "metadata": {},
   "outputs": [
    {
     "name": "stdout",
     "output_type": "stream",
     "text": [
      "Area of circle :63.585\n",
      "perimeter of circle :28.26\n"
     ]
    }
   ],
   "source": [
    "#2. Write a Python program to create a class representing a Circle. \n",
    "#Include methods to calculate its area and perimeter.\n",
    "\n",
    "\n",
    "num = int(input(\"Enter the Number ===>\"))\n",
    "\n",
    "class circle:\n",
    "    def __init__(self,radius):\n",
    "        self.radius = radius\n",
    "        self.pi = 3.14\n",
    "\n",
    "    def area(self):\n",
    "        print(f'Area of circle :{self.pi*self.radius ** 2}')\n",
    "\n",
    "    def perimeter(self):\n",
    "        print(f\"perimeter of circle :{2*self.pi * self.radius}\")\n",
    "\n",
    "\n",
    "c1 = circle(num)\n",
    "\n",
    "c1.area()\n",
    "c1.perimeter()\n"
   ]
  },
  {
   "cell_type": "code",
   "execution_count": 72,
   "metadata": {},
   "outputs": [
    {
     "name": "stdout",
     "output_type": "stream",
     "text": [
      "1505\n",
      "1540\n",
      "1575\n",
      "1610\n",
      "1645\n",
      "1680\n",
      "1715\n",
      "1750\n",
      "1785\n",
      "1820\n",
      "1855\n",
      "1890\n",
      "1925\n",
      "1960\n",
      "1995\n",
      "2030\n",
      "2065\n",
      "2100\n",
      "2135\n",
      "2170\n",
      "2205\n",
      "2240\n",
      "2275\n",
      "2310\n",
      "2345\n",
      "2380\n",
      "2415\n",
      "2450\n",
      "2485\n",
      "2520\n",
      "2555\n",
      "2590\n",
      "2625\n",
      "2660\n",
      "2695\n"
     ]
    }
   ],
   "source": [
    "#Write a Python program to find those numbers\n",
    "# which are divisible by 7 and multiples of 5, between 1500 and 2700 (both included).\n",
    "\n",
    "for i in range(1500,2701):\n",
    "    if i % 7 == 0 and i % 5 == 0:\n",
    "        print(i)   \n",
    "       "
   ]
  },
  {
   "cell_type": "code",
   "execution_count": 69,
   "metadata": {},
   "outputs": [
    {
     "name": "stdout",
     "output_type": "stream",
     "text": [
      "[1505, 1540, 1575, 1610, 1645, 1680, 1715, 1750, 1785, 1820, 1855, 1890, 1925, 1960, 1995, 2030, 2065, 2100, 2135, 2170, 2205, 2240, 2275, 2310, 2345, 2380, 2415, 2450, 2485, 2520, 2555, 2590, 2625, 2660, 2695]\n"
     ]
    }
   ],
   "source": [
    "#append in list\n",
    "\n",
    "my_list = []\n",
    "\n",
    "for i in range (1500, 2701):\n",
    "    if i % 7 == 0 and i % 5==0 :\n",
    "        my_list.append(i)\n",
    "\n",
    "print(my_list)"
   ]
  },
  {
   "cell_type": "code",
   "execution_count": 84,
   "metadata": {},
   "outputs": [
    {
     "name": "stdout",
     "output_type": "stream",
     "text": [
      "My name is morning\n",
      "heyyy..........\n",
      "my name is morning star\n"
     ]
    }
   ],
   "source": [
    "#Write a Python program that demonstrates\n",
    "#the use of function decorators to modify the behavior of another function\n",
    "\n",
    "def my_fun(pra): #decorator function\n",
    "\n",
    "    def other_fun():\n",
    "\n",
    "        print(\"My name is morning\")\n",
    "\n",
    "        pra()\n",
    "\n",
    "        print(\"my name is morning star\")\n",
    "\n",
    "        \n",
    "\n",
    "    other_fun()    \n",
    "\n",
    "@my_fun\n",
    "def display():\n",
    "    print('heyyy..........')   \n",
    "          "
   ]
  }
 ],
 "metadata": {
  "kernelspec": {
   "display_name": "Python 3",
   "language": "python",
   "name": "python3"
  },
  "language_info": {
   "codemirror_mode": {
    "name": "ipython",
    "version": 3
   },
   "file_extension": ".py",
   "mimetype": "text/x-python",
   "name": "python",
   "nbconvert_exporter": "python",
   "pygments_lexer": "ipython3",
   "version": "3.11.3"
  },
  "orig_nbformat": 4,
  "vscode": {
   "interpreter": {
    "hash": "c6b30b7b1f5bccd298e2e4e29573e98d5e423cbdbad08292c692205c16954197"
   }
  }
 },
 "nbformat": 4,
 "nbformat_minor": 2
}
