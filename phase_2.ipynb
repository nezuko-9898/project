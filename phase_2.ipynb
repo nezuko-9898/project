{
 "cells": [
  {
   "cell_type": "code",
   "execution_count": 71,
   "metadata": {},
   "outputs": [
    {
     "name": "stdout",
     "output_type": "stream",
     "text": [
      "all same\n"
     ]
    }
   ],
   "source": [
    "#Write a Python program to verify that all values in a dictionary are the same\n",
    "\n",
    "\n",
    "\n",
    "my_dic = {'pravin':1,'pravin':1,'pravin':1}\n",
    "\n",
    "check = list(my_dic.keys())\n",
    "\n",
    "if len(check) == 1:\n",
    "    print(\"All same\")\n",
    "\n",
    "else:\n",
    "\n",
    "    print(\"Not same\")    "
   ]
  },
  {
   "cell_type": "code",
   "execution_count": 64,
   "metadata": {},
   "outputs": [
    {
     "name": "stdout",
     "output_type": "stream",
     "text": [
      "key is not Exists....\n"
     ]
    }
   ],
   "source": [
    "   #Write a Python program to check whether a given key already exists in a dictionary.using(Function)\n",
    "\n",
    "def check_key(key,dic):\n",
    "    if key in dic:\n",
    "        return True\n",
    "    else:\n",
    "        return False\n",
    "    \n",
    "sample_dic = {'Name':'pravin','Age':21,'Grade':'A'}\n",
    "\n",
    "find_key = 'morning'\n",
    "\n",
    "if check_key(find_key,sample_dic,):\n",
    "    \n",
    "    print(\"Key is Exists.....\")\n",
    "\n",
    "else:\n",
    "\n",
    "    print(\"key is not Exists....\")    \n"
   ]
  },
  {
   "cell_type": "code",
   "execution_count": 68,
   "metadata": {},
   "outputs": [
    {
     "name": "stdout",
     "output_type": "stream",
     "text": [
      "KeyName , value : pravin\n",
      "KeyAge , value : 21\n",
      "KeyGrade , value : A\n"
     ]
    }
   ],
   "source": [
    "#Write a Python program to iterate over dictionaries using for loops.(using function)\n",
    "\n",
    "def morning(my_dic):\n",
    "    for key , value in my_dic.items():\n",
    "        print(f\"Key{key} , value : {value}\")\n",
    "\n",
    "sample_dic = {'Name':'pravin','Age':21,'Grade':'A'}\n",
    "\n",
    "morning(sample_dic)\n",
    "\n"
   ]
  },
  {
   "cell_type": "code",
   "execution_count": 70,
   "metadata": {},
   "outputs": [
    {
     "name": "stdout",
     "output_type": "stream",
     "text": [
      "('Name', 'Pravin')\n",
      "('Age', 21)\n",
      "('Grade', 'A')\n"
     ]
    }
   ],
   "source": [
    "my_dic = {'Name':'Pravin','Age':21,'Grade':'A'}\n",
    "\n",
    "for i in my_dic.items():\n",
    "    print(i)"
   ]
  }
 ],
 "metadata": {
  "kernelspec": {
   "display_name": "Python 3",
   "language": "python",
   "name": "python3"
  },
  "language_info": {
   "codemirror_mode": {
    "name": "ipython",
    "version": 3
   },
   "file_extension": ".py",
   "mimetype": "text/x-python",
   "name": "python",
   "nbconvert_exporter": "python",
   "pygments_lexer": "ipython3",
   "version": "3.11.3"
  },
  "orig_nbformat": 4,
  "vscode": {
   "interpreter": {
    "hash": "c6b30b7b1f5bccd298e2e4e29573e98d5e423cbdbad08292c692205c16954197"
   }
  }
 },
 "nbformat": 4,
 "nbformat_minor": 2
}
